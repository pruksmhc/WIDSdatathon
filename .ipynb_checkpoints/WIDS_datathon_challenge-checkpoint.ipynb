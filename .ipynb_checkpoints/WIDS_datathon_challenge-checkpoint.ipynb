{
 "cells": [],
 "metadata": {},
 "nbformat": 4,
 "nbformat_minor": 2
}

{
 import pandas as pd

df = pd.read_csv('/user/home/test.csv')
}
